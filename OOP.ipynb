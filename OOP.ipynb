{
 "cells": [
  {
   "cell_type": "code",
   "execution_count": null,
   "id": "e5c864a1",
   "metadata": {},
   "outputs": [],
   "source": [
    "# Object Oriented Programming"
   ]
  },
  {
   "cell_type": "code",
   "execution_count": null,
   "id": "df719ac3",
   "metadata": {},
   "outputs": [],
   "source": [
    "ram, shabzi, kheti\n",
    "laxman , lakdi kaatne, \n",
    "shyam, khana, bartan"
   ]
  },
  {
   "cell_type": "code",
   "execution_count": null,
   "id": "7766eae7",
   "metadata": {},
   "outputs": [],
   "source": [
    "#Syntax: class\n",
    "class ClassName:\n",
    "    boc"
   ]
  },
  {
   "cell_type": "code",
   "execution_count": null,
   "id": "f2664c07",
   "metadata": {},
   "outputs": [],
   "source": [
    "#Syntax: object\n",
    "ClassName()"
   ]
  },
  {
   "cell_type": "code",
   "execution_count": 1,
   "id": "b0114f25",
   "metadata": {},
   "outputs": [],
   "source": [
    "class Hooman:\n",
    "    pass"
   ]
  },
  {
   "cell_type": "code",
   "execution_count": 4,
   "id": "6a0fe0f3",
   "metadata": {},
   "outputs": [],
   "source": [
    "h1 = Hooman()"
   ]
  },
  {
   "cell_type": "code",
   "execution_count": 5,
   "id": "23b2f3be",
   "metadata": {},
   "outputs": [],
   "source": [
    "h2 = Hooman()\n"
   ]
  },
  {
   "cell_type": "code",
   "execution_count": 6,
   "id": "a8ba5d77",
   "metadata": {},
   "outputs": [
    {
     "data": {
      "text/plain": [
       "140228541597728"
      ]
     },
     "execution_count": 6,
     "metadata": {},
     "output_type": "execute_result"
    }
   ],
   "source": [
    "id(h1)"
   ]
  },
  {
   "cell_type": "code",
   "execution_count": 7,
   "id": "cb260261",
   "metadata": {},
   "outputs": [
    {
     "data": {
      "text/plain": [
       "140228541596528"
      ]
     },
     "execution_count": 7,
     "metadata": {},
     "output_type": "execute_result"
    }
   ],
   "source": [
    "id(h2)"
   ]
  },
  {
   "cell_type": "code",
   "execution_count": 8,
   "id": "ac977266",
   "metadata": {},
   "outputs": [
    {
     "data": {
      "text/plain": [
       "__main__.Hooman"
      ]
     },
     "execution_count": 8,
     "metadata": {},
     "output_type": "execute_result"
    }
   ],
   "source": [
    "type(h2)"
   ]
  },
  {
   "cell_type": "code",
   "execution_count": 9,
   "id": "4e83adba",
   "metadata": {},
   "outputs": [
    {
     "name": "stdout",
     "output_type": "stream",
     "text": [
      "90\n"
     ]
    }
   ],
   "source": [
    "a = 8\n",
    "a = 90\n",
    "print(a)"
   ]
  },
  {
   "cell_type": "code",
   "execution_count": null,
   "id": "da47fc12",
   "metadata": {},
   "outputs": [],
   "source": [
    "# principles of oop\n",
    "1. class and object\n",
    "2. Inheritence\n",
    "3. Encapsulation\n",
    "4. Polymorphism\n",
    "5. Abstraction"
   ]
  },
  {
   "cell_type": "code",
   "execution_count": 1,
   "id": "aade6dfb",
   "metadata": {},
   "outputs": [],
   "source": [
    "class Car:\n",
    "    pass"
   ]
  },
  {
   "cell_type": "code",
   "execution_count": 5,
   "id": "be16e1e5",
   "metadata": {},
   "outputs": [],
   "source": [
    "c1 = Car()"
   ]
  },
  {
   "cell_type": "code",
   "execution_count": 6,
   "id": "379ea6d7",
   "metadata": {},
   "outputs": [],
   "source": [
    "c2 = Car()"
   ]
  },
  {
   "cell_type": "code",
   "execution_count": 8,
   "id": "185d8a76",
   "metadata": {},
   "outputs": [
    {
     "data": {
      "text/plain": [
       "__main__.Car"
      ]
     },
     "execution_count": 8,
     "metadata": {},
     "output_type": "execute_result"
    }
   ],
   "source": [
    "type(c2)"
   ]
  },
  {
   "cell_type": "code",
   "execution_count": null,
   "id": "77b32ba4",
   "metadata": {},
   "outputs": [],
   "source": []
  },
  {
   "cell_type": "code",
   "execution_count": null,
   "id": "953e33a6",
   "metadata": {},
   "outputs": [],
   "source": []
  },
  {
   "cell_type": "code",
   "execution_count": null,
   "id": "deaf8be9",
   "metadata": {},
   "outputs": [],
   "source": []
  },
  {
   "cell_type": "code",
   "execution_count": 11,
   "id": "f0cdd653",
   "metadata": {},
   "outputs": [],
   "source": [
    "# 1. class and object , #self points to the current instance of the class\n",
    "\n",
    "class Student:\n",
    "    def __init__(self): #constructor method\n",
    "        print('this method works')"
   ]
  },
  {
   "cell_type": "code",
   "execution_count": null,
   "id": "daa43072",
   "metadata": {},
   "outputs": [],
   "source": [
    "s1 = Student() # class ko call karne pe __init__ naam ki method call hogi\n",
    "# jab bhi class ko call karte ho toh object as a first argument chala hi jaayega"
   ]
  },
  {
   "cell_type": "code",
   "execution_count": null,
   "id": "93a5ce4c",
   "metadata": {},
   "outputs": [],
   "source": [
    "s2 = Student()"
   ]
  },
  {
   "cell_type": "code",
   "execution_count": null,
   "id": "7c7d4fd9",
   "metadata": {},
   "outputs": [],
   "source": [
    "# method is just a FUNCTION defined INSIDE the class"
   ]
  },
  {
   "cell_type": "code",
   "execution_count": null,
   "id": "300e9d69",
   "metadata": {},
   "outputs": [],
   "source": [
    "# attributes of the object\n",
    "# variables ~ attributes\n",
    "# 2 types of Variables\n",
    "1. Class Variable/Static Varible\n",
    "2. Instance Variable"
   ]
  },
  {
   "cell_type": "code",
   "execution_count": 20,
   "id": "96d39c0b",
   "metadata": {},
   "outputs": [],
   "source": [
    "class Student:\n",
    "    #Class Variable/ Static Variable\n",
    "    principal_name = 'Bhodabhai'\n",
    "    school_name = \"Ankur Vidya Vihar\"\n",
    "    \n",
    "    def __init__(self, a,b,c): #self = s2\n",
    "        #Instance Variable\n",
    "        self.name = a\n",
    "        self.roll_no = b\n",
    "        self.std = c\n",
    "    \n",
    "    "
   ]
  },
  {
   "cell_type": "code",
   "execution_count": 21,
   "id": "0fb362d8",
   "metadata": {},
   "outputs": [],
   "source": [
    "s1 = Student('snehal', 56, '1st')\n",
    "s2 = Student('ritik', 59, '2nd')"
   ]
  },
  {
   "cell_type": "code",
   "execution_count": 23,
   "id": "4bd4756c",
   "metadata": {},
   "outputs": [
    {
     "data": {
      "text/plain": [
       "'1st'"
      ]
     },
     "execution_count": 23,
     "metadata": {},
     "output_type": "execute_result"
    }
   ],
   "source": [
    "s1.std"
   ]
  },
  {
   "cell_type": "code",
   "execution_count": 24,
   "id": "08b4da65",
   "metadata": {},
   "outputs": [
    {
     "data": {
      "text/plain": [
       "'Bhodabhai'"
      ]
     },
     "execution_count": 24,
     "metadata": {},
     "output_type": "execute_result"
    }
   ],
   "source": [
    "s1.principal_name"
   ]
  },
  {
   "cell_type": "code",
   "execution_count": 25,
   "id": "a64ede68",
   "metadata": {},
   "outputs": [
    {
     "data": {
      "text/plain": [
       "'Bhodabhai'"
      ]
     },
     "execution_count": 25,
     "metadata": {},
     "output_type": "execute_result"
    }
   ],
   "source": [
    "s2.principal_name"
   ]
  },
  {
   "cell_type": "code",
   "execution_count": 26,
   "id": "d0c1db1b",
   "metadata": {},
   "outputs": [],
   "source": [
    "s45 = Student('mayur', 30, '1st')"
   ]
  },
  {
   "cell_type": "code",
   "execution_count": 32,
   "id": "60397747",
   "metadata": {},
   "outputs": [
    {
     "data": {
      "text/plain": [
       "'ritik'"
      ]
     },
     "execution_count": 32,
     "metadata": {},
     "output_type": "execute_result"
    }
   ],
   "source": [
    "s2.name"
   ]
  },
  {
   "cell_type": "code",
   "execution_count": 37,
   "id": "01d87a1c",
   "metadata": {},
   "outputs": [],
   "source": [
    "class Car:\n",
    "    #static variable; can be accessed on object as well as class\n",
    "    no_of_wheels = 4\n",
    "    brand = 'Mercedes'\n",
    "\n",
    "    \n",
    "    def __init__(self, transmission, typee, color, model):\n",
    "        #Instance Variable : only accessed on OBJECTS\n",
    "        self.transmission = transmission\n",
    "        self.color = color\n",
    "        self.typee = typee\n",
    "        self.model = model"
   ]
  },
  {
   "cell_type": "code",
   "execution_count": 42,
   "id": "c9470f83",
   "metadata": {},
   "outputs": [],
   "source": [
    "c1 = Car('manual', 'petrol', 'pink', 'G Wagon')\n",
    "c2 = Car('Automatic', 'electric', 'red', 'Maybach')"
   ]
  },
  {
   "cell_type": "code",
   "execution_count": 45,
   "id": "3aa9e009",
   "metadata": {},
   "outputs": [
    {
     "data": {
      "text/plain": [
       "'G Wagon'"
      ]
     },
     "execution_count": 45,
     "metadata": {},
     "output_type": "execute_result"
    }
   ],
   "source": [
    "c1.model"
   ]
  },
  {
   "cell_type": "code",
   "execution_count": 46,
   "id": "03099429",
   "metadata": {},
   "outputs": [
    {
     "data": {
      "text/plain": [
       "'Mercedes'"
      ]
     },
     "execution_count": 46,
     "metadata": {},
     "output_type": "execute_result"
    }
   ],
   "source": [
    "c2.brand"
   ]
  },
  {
   "cell_type": "code",
   "execution_count": 47,
   "id": "c5c27154",
   "metadata": {},
   "outputs": [
    {
     "data": {
      "text/plain": [
       "'Maybach'"
      ]
     },
     "execution_count": 47,
     "metadata": {},
     "output_type": "execute_result"
    }
   ],
   "source": [
    "c2.model"
   ]
  },
  {
   "cell_type": "code",
   "execution_count": 49,
   "id": "fd803cdf",
   "metadata": {},
   "outputs": [
    {
     "data": {
      "text/plain": [
       "4"
      ]
     },
     "execution_count": 49,
     "metadata": {},
     "output_type": "execute_result"
    }
   ],
   "source": [
    "Car.no_of_wheels"
   ]
  },
  {
   "cell_type": "code",
   "execution_count": 51,
   "id": "3d6dfb7b",
   "metadata": {},
   "outputs": [
    {
     "data": {
      "text/plain": [
       "'Mercedes'"
      ]
     },
     "execution_count": 51,
     "metadata": {},
     "output_type": "execute_result"
    }
   ],
   "source": [
    "Car.brand"
   ]
  },
  {
   "cell_type": "code",
   "execution_count": 53,
   "id": "250ee5f4",
   "metadata": {},
   "outputs": [],
   "source": [
    "c1.color = 'light pink'"
   ]
  },
  {
   "cell_type": "code",
   "execution_count": 54,
   "id": "8e1ed9f1",
   "metadata": {},
   "outputs": [
    {
     "data": {
      "text/plain": [
       "'red'"
      ]
     },
     "execution_count": 54,
     "metadata": {},
     "output_type": "execute_result"
    }
   ],
   "source": [
    "c2.color"
   ]
  },
  {
   "cell_type": "code",
   "execution_count": 55,
   "id": "fafc8437",
   "metadata": {},
   "outputs": [
    {
     "data": {
      "text/plain": [
       "'light pink'"
      ]
     },
     "execution_count": 55,
     "metadata": {},
     "output_type": "execute_result"
    }
   ],
   "source": [
    "c1.color"
   ]
  },
  {
   "cell_type": "code",
   "execution_count": 58,
   "id": "12a254ae",
   "metadata": {},
   "outputs": [
    {
     "ename": "AttributeError",
     "evalue": "'Car' object has no attribute 'music_system'",
     "output_type": "error",
     "traceback": [
      "\u001b[0;31m---------------------------------------------------------------------------\u001b[0m",
      "\u001b[0;31mAttributeError\u001b[0m                            Traceback (most recent call last)",
      "Cell \u001b[0;32mIn[58], line 1\u001b[0m\n\u001b[0;32m----> 1\u001b[0m \u001b[43mc2\u001b[49m\u001b[38;5;241;43m.\u001b[39;49m\u001b[43mmusic_system\u001b[49m\n",
      "\u001b[0;31mAttributeError\u001b[0m: 'Car' object has no attribute 'music_system'"
     ]
    }
   ],
   "source": [
    "c2.music_system"
   ]
  },
  {
   "cell_type": "code",
   "execution_count": null,
   "id": "d3384b59",
   "metadata": {},
   "outputs": [],
   "source": [
    "c1.music_system = 'Harman' #Instance Variable"
   ]
  },
  {
   "cell_type": "code",
   "execution_count": 59,
   "id": "19b35dd1",
   "metadata": {},
   "outputs": [
    {
     "data": {
      "text/plain": [
       "'Harman'"
      ]
     },
     "execution_count": 59,
     "metadata": {},
     "output_type": "execute_result"
    }
   ],
   "source": [
    "c1.music_system"
   ]
  },
  {
   "cell_type": "code",
   "execution_count": 61,
   "id": "94560ea4",
   "metadata": {},
   "outputs": [],
   "source": [
    "Car.safety = True #static variable"
   ]
  },
  {
   "cell_type": "code",
   "execution_count": 63,
   "id": "46ab2eee",
   "metadata": {},
   "outputs": [
    {
     "data": {
      "text/plain": [
       "True"
      ]
     },
     "execution_count": 63,
     "metadata": {},
     "output_type": "execute_result"
    }
   ],
   "source": [
    "c2.safety"
   ]
  },
  {
   "cell_type": "code",
   "execution_count": 53,
   "id": "8e07c4e3",
   "metadata": {},
   "outputs": [],
   "source": [
    "class Book:\n",
    "#     2 static variable\n",
    "    binding = 'hard'\n",
    "    genuine = True\n",
    "    \n",
    "    def __init__(self, name, author, publisher):\n",
    "        \"\"\"\n",
    "        3 instance variable\n",
    "        \"\"\"\n",
    "        self.name = name\n",
    "        self.auther = author\n",
    "        self.publisher = publisher\n",
    "        \n",
    "class Author:\n",
    "    def __init__(self, name, dob, about):\n",
    "        self.name = name\n",
    "        self.info = about #self.info = 'russipo'\n",
    "        self.dob = dob"
   ]
  },
  {
   "cell_type": "code",
   "execution_count": 55,
   "id": "6d0aabe5",
   "metadata": {},
   "outputs": [],
   "source": [
    "a1 = Author('Fyodor', '1st january 1800', 'Russian Thriller Psy book Writer')\n",
    "a2 = Author('Leo Tolstoy', '1st january 1800', 'Russian Writer')"
   ]
  },
  {
   "cell_type": "code",
   "execution_count": 56,
   "id": "63526920",
   "metadata": {},
   "outputs": [],
   "source": [
    "b1 = Book('War and Peace', a2, 'Penguin Classics')"
   ]
  },
  {
   "cell_type": "code",
   "execution_count": 57,
   "id": "384a31e0",
   "metadata": {},
   "outputs": [
    {
     "data": {
      "text/plain": [
       "'War and Peace'"
      ]
     },
     "execution_count": 57,
     "metadata": {},
     "output_type": "execute_result"
    }
   ],
   "source": [
    "b1.name"
   ]
  },
  {
   "cell_type": "code",
   "execution_count": 58,
   "id": "29483c42",
   "metadata": {},
   "outputs": [
    {
     "data": {
      "text/plain": [
       "'Penguin Classics'"
      ]
     },
     "execution_count": 58,
     "metadata": {},
     "output_type": "execute_result"
    }
   ],
   "source": [
    "b1.publisher"
   ]
  },
  {
   "cell_type": "code",
   "execution_count": 61,
   "id": "40a8c593",
   "metadata": {},
   "outputs": [
    {
     "data": {
      "text/plain": [
       "'Russian Writer'"
      ]
     },
     "execution_count": 61,
     "metadata": {},
     "output_type": "execute_result"
    }
   ],
   "source": [
    "b1.auther.info"
   ]
  },
  {
   "cell_type": "code",
   "execution_count": null,
   "id": "8c970b51",
   "metadata": {},
   "outputs": [],
   "source": []
  },
  {
   "cell_type": "code",
   "execution_count": null,
   "id": "3155a191",
   "metadata": {},
   "outputs": [],
   "source": []
  },
  {
   "cell_type": "code",
   "execution_count": 49,
   "id": "99230b74",
   "metadata": {},
   "outputs": [
    {
     "data": {
      "text/plain": [
       "'Chetan bhagat'"
      ]
     },
     "execution_count": 49,
     "metadata": {},
     "output_type": "execute_result"
    }
   ],
   "source": [
    "b1.auther"
   ]
  },
  {
   "cell_type": "code",
   "execution_count": null,
   "id": "59760a6b",
   "metadata": {},
   "outputs": [],
   "source": [
    "# Agar class ko call karte ho yaa toh uski methods ko call karte ho,\n",
    "# OBJECT as a first POSITIONAL argument chala hi jaayega... "
   ]
  },
  {
   "cell_type": "code",
   "execution_count": 63,
   "id": "74d19eaf",
   "metadata": {},
   "outputs": [],
   "source": [
    "# Types of Methods (behaviours)\n",
    "# 1. Instance Method\n",
    "# 2. Class Method\n",
    "# 3. Static Method\n",
    "\n",
    "class Dog:\n",
    "    legs = 4 #Static/Class Variable\n",
    "    \n",
    "    def __init__(self, breed, color, height, gender='Male'):\n",
    "        self.breed = breed\n",
    "        self.color = color\n",
    "        self.height = height\n",
    "        self.gender = gender\n",
    "        \n",
    "    def barking(self):\n",
    "        print('this is dog bhau bhau')\n",
    "        \n",
    "    def playing(self,b):\n",
    "        return f'I will runn vary fast and I will bring back your {b}'\n",
    "    \n",
    "    #Instance Method\n",
    "    def tell_me_your_gender(self): #self = d1, getter method\n",
    "        return self.gender\n",
    "    \n",
    "    #Instance Method\n",
    "    def change_color(self, v): #setter method\n",
    "        self.color = v"
   ]
  },
  {
   "cell_type": "code",
   "execution_count": 64,
   "id": "eb8cfd28",
   "metadata": {},
   "outputs": [],
   "source": [
    "d1 = Dog(color='brown', breed='beagle', height='dedh feet', gender='Female')\n",
    "d2 = Dog(color='black', breed='doberman', height='panch feet', gender='Alpha Male')\n"
   ]
  },
  {
   "cell_type": "code",
   "execution_count": 31,
   "id": "eb7067cb",
   "metadata": {},
   "outputs": [
    {
     "data": {
      "text/plain": [
       "'Female'"
      ]
     },
     "execution_count": 31,
     "metadata": {},
     "output_type": "execute_result"
    }
   ],
   "source": [
    "d1.gender"
   ]
  },
  {
   "cell_type": "code",
   "execution_count": 16,
   "id": "f2c20511",
   "metadata": {},
   "outputs": [
    {
     "name": "stdout",
     "output_type": "stream",
     "text": [
      "this is dog bhau bhau\n"
     ]
    }
   ],
   "source": [
    "d1.barking()"
   ]
  },
  {
   "cell_type": "code",
   "execution_count": 30,
   "id": "d8472ae2",
   "metadata": {},
   "outputs": [
    {
     "data": {
      "text/plain": [
       "'I will runn vary fast and I will bring back your Ball'"
      ]
     },
     "execution_count": 30,
     "metadata": {},
     "output_type": "execute_result"
    }
   ],
   "source": [
    "d1.playing('Ball')"
   ]
  },
  {
   "cell_type": "code",
   "execution_count": 39,
   "id": "cacb58f9",
   "metadata": {},
   "outputs": [
    {
     "data": {
      "text/plain": [
       "'Female'"
      ]
     },
     "execution_count": 39,
     "metadata": {},
     "output_type": "execute_result"
    }
   ],
   "source": [
    "d1.tell_me_your_gender()"
   ]
  },
  {
   "cell_type": "code",
   "execution_count": 40,
   "id": "1544de9a",
   "metadata": {},
   "outputs": [
    {
     "data": {
      "text/plain": [
       "'Alpha Male'"
      ]
     },
     "execution_count": 40,
     "metadata": {},
     "output_type": "execute_result"
    }
   ],
   "source": [
    "d2.tell_me_your_gender()"
   ]
  },
  {
   "cell_type": "code",
   "execution_count": 65,
   "id": "dc030ecf",
   "metadata": {},
   "outputs": [],
   "source": [
    "d2.change_color('White')"
   ]
  },
  {
   "cell_type": "code",
   "execution_count": 66,
   "id": "22cff8ce",
   "metadata": {},
   "outputs": [
    {
     "data": {
      "text/plain": [
       "'White'"
      ]
     },
     "execution_count": 66,
     "metadata": {},
     "output_type": "execute_result"
    }
   ],
   "source": [
    "d2.color"
   ]
  },
  {
   "cell_type": "code",
   "execution_count": 67,
   "id": "f854e0b0",
   "metadata": {},
   "outputs": [
    {
     "data": {
      "text/plain": [
       "'brown'"
      ]
     },
     "execution_count": 67,
     "metadata": {},
     "output_type": "execute_result"
    }
   ],
   "source": [
    "d1.color"
   ]
  },
  {
   "cell_type": "code",
   "execution_count": null,
   "id": "cb4a1664",
   "metadata": {},
   "outputs": [],
   "source": [
    "ritik_rajput\n",
    "#snake case... saare words lower case mein aur bich mein underscore\n",
    "\n",
    "RitikRajput\n",
    "#pascal case.. harek words ka first letter upper case \n",
    "#      baki sare letters lowercase aur bich mein kuch bhi nhi dena hai\n"
   ]
  },
  {
   "cell_type": "code",
   "execution_count": 21,
   "id": "a4e7abd1",
   "metadata": {},
   "outputs": [],
   "source": [
    "class Student:\n",
    "    dress_code = 'pink' #class variable\n",
    "    principal = 'bhodabhai'\n",
    "    school_name = \"ankur Vidya Vihar\"\n",
    "    \n",
    "    def __init__(self, age, std, full_name):\n",
    "        self.age = age\n",
    "        self.std = std\n",
    "        self.name = full_name\n",
    "        \n",
    "    #Instance Method\n",
    "    def change_dress_code(self, v): #self= s1, v = 'white'\n",
    "        self.dress_code = v #s1.dress_code = 'white'\n",
    "    \n",
    "    @classmethod       #decorator\n",
    "    def change_principal(cls, n): #cls points to the current Class\n",
    "        cls.principal = n\n",
    "        \n",
    "    @staticmethod #independent class and object\n",
    "    def fact(a):\n",
    "        res = 1\n",
    "        for i in range(1, a+1):\n",
    "            res *= i\n",
    "        return res"
   ]
  },
  {
   "cell_type": "code",
   "execution_count": 22,
   "id": "0c6e3144",
   "metadata": {},
   "outputs": [],
   "source": [
    "s1 = Student(22, '1st', 'Siddhesh Sawant')\n",
    "s2 = Student(23, '10th', 'Ritik Rajput')\n",
    "s3 = Student(26, '5th', 'Menil Lakdiwala')\n",
    "s4 = Student(26, '9th', 'Mayur Chavda')"
   ]
  },
  {
   "cell_type": "code",
   "execution_count": 24,
   "id": "9946bb42",
   "metadata": {},
   "outputs": [
    {
     "data": {
      "text/plain": [
       "6"
      ]
     },
     "execution_count": 24,
     "metadata": {},
     "output_type": "execute_result"
    }
   ],
   "source": [
    "s1.fact(3)"
   ]
  },
  {
   "cell_type": "code",
   "execution_count": 25,
   "id": "c9f3e725",
   "metadata": {},
   "outputs": [
    {
     "data": {
      "text/plain": [
       "720"
      ]
     },
     "execution_count": 25,
     "metadata": {},
     "output_type": "execute_result"
    }
   ],
   "source": [
    "Student.fact(6)"
   ]
  },
  {
   "cell_type": "code",
   "execution_count": 90,
   "id": "bb88aa03",
   "metadata": {},
   "outputs": [],
   "source": [
    "s1.change_dress_code('white')"
   ]
  },
  {
   "cell_type": "code",
   "execution_count": 91,
   "id": "15ed4a69",
   "metadata": {},
   "outputs": [
    {
     "data": {
      "text/plain": [
       "'white'"
      ]
     },
     "execution_count": 91,
     "metadata": {},
     "output_type": "execute_result"
    }
   ],
   "source": [
    "s1.dress_code"
   ]
  },
  {
   "cell_type": "code",
   "execution_count": 94,
   "id": "98e91d85",
   "metadata": {},
   "outputs": [
    {
     "data": {
      "text/plain": [
       "'pink'"
      ]
     },
     "execution_count": 94,
     "metadata": {},
     "output_type": "execute_result"
    }
   ],
   "source": [
    "s3.dress_code"
   ]
  },
  {
   "cell_type": "code",
   "execution_count": 116,
   "id": "9ddd6175",
   "metadata": {},
   "outputs": [],
   "source": [
    "s3.change_principal('Siddhesh')"
   ]
  },
  {
   "cell_type": "code",
   "execution_count": 117,
   "id": "4ff4479f",
   "metadata": {},
   "outputs": [
    {
     "data": {
      "text/plain": [
       "'Siddhesh'"
      ]
     },
     "execution_count": 117,
     "metadata": {},
     "output_type": "execute_result"
    }
   ],
   "source": [
    "s3.principal"
   ]
  },
  {
   "cell_type": "code",
   "execution_count": 118,
   "id": "79e4699b",
   "metadata": {},
   "outputs": [
    {
     "data": {
      "text/plain": [
       "'Siddhesh'"
      ]
     },
     "execution_count": 118,
     "metadata": {},
     "output_type": "execute_result"
    }
   ],
   "source": [
    "s2.principal"
   ]
  },
  {
   "cell_type": "code",
   "execution_count": 119,
   "id": "f7bf31fa",
   "metadata": {},
   "outputs": [
    {
     "data": {
      "text/plain": [
       "'Siddhesh'"
      ]
     },
     "execution_count": 119,
     "metadata": {},
     "output_type": "execute_result"
    }
   ],
   "source": [
    "s1.principal"
   ]
  },
  {
   "cell_type": "code",
   "execution_count": 121,
   "id": "7685cb9e",
   "metadata": {},
   "outputs": [
    {
     "data": {
      "text/plain": [
       "'Siddhesh'"
      ]
     },
     "execution_count": 121,
     "metadata": {},
     "output_type": "execute_result"
    }
   ],
   "source": [
    "s4.principal"
   ]
  },
  {
   "cell_type": "code",
   "execution_count": 122,
   "id": "1ad34799",
   "metadata": {},
   "outputs": [
    {
     "data": {
      "text/plain": [
       "'Siddhesh'"
      ]
     },
     "execution_count": 122,
     "metadata": {},
     "output_type": "execute_result"
    }
   ],
   "source": [
    "Student.principal"
   ]
  },
  {
   "cell_type": "code",
   "execution_count": null,
   "id": "3066c99f",
   "metadata": {},
   "outputs": [],
   "source": [
    "# agar class mein normally koi bhi method hota hai toh wo INSTANCE METHOD HOTA HAI\n",
    "# agar kisi method ke upar decorator @classmethod lagaya hai to wo CLASS METHOD hai"
   ]
  },
  {
   "cell_type": "code",
   "execution_count": null,
   "id": "238dfe02",
   "metadata": {},
   "outputs": [],
   "source": [
    "# decorator : #just another function created to modify other funtion's behaviour\n",
    "# modifies the behaviour of a method / function"
   ]
  },
  {
   "cell_type": "code",
   "execution_count": 72,
   "id": "daf9a758",
   "metadata": {},
   "outputs": [],
   "source": [
    "def d1(fun1): #fun1 = h1\n",
    "    def f45():\n",
    "        #actual kaam ke pehle karne ki cheezein\n",
    "        print('this is modification')\n",
    "#         fun1() #actual kaam ho gaya\n",
    "        #actual kaam ho jaane ke baad ki cheezein\n",
    "        print('actual kaam ke baad')\n",
    "        \n",
    "    return f45"
   ]
  },
  {
   "cell_type": "code",
   "execution_count": 80,
   "id": "28802da4",
   "metadata": {},
   "outputs": [],
   "source": [
    "@d1\n",
    "def h1():\n",
    "    print('hello world')"
   ]
  },
  {
   "cell_type": "code",
   "execution_count": 81,
   "id": "f0caba67",
   "metadata": {},
   "outputs": [
    {
     "name": "stdout",
     "output_type": "stream",
     "text": [
      "this is modification\n",
      "actual kaam ke baad\n"
     ]
    }
   ],
   "source": [
    "h1() #==> d1(h1)"
   ]
  },
  {
   "cell_type": "code",
   "execution_count": null,
   "id": "f98d4223",
   "metadata": {},
   "outputs": [],
   "source": [
    "# 2. Inheritence\n",
    "# Heritage \n",
    "# code sharing, code reusability\n",
    "\n",
    "# Types of Inheritence\n",
    "1. Single Inheritence #single parent, single child\n",
    "2. Multiple Inheritence #Multiple parent, single child\n",
    "3. Multilevel Inheritence # parent has child and that child is parent of another child\n",
    "4. Hierarchical Inheritence # single parent & multiple children\n",
    "5. Hybrid Inheritence"
   ]
  },
  {
   "cell_type": "code",
   "execution_count": 90,
   "id": "ca4149a7",
   "metadata": {},
   "outputs": [],
   "source": [
    "# 1. Single Inheritence\n",
    "class Father: #Parent Class, Base Class, Ancenstor Class\n",
    "    paisa = 'bahot sara'\n",
    "    zameen = 'jahan tak nazar jaaye'\n",
    "    \n",
    "    def show(self):\n",
    "        print('this is class Father')\n",
    "        \n",
    "class Son(Father): # Child Class, Derived Class, Heir Class\n",
    "    time = 'free'"
   ]
  },
  {
   "cell_type": "code",
   "execution_count": 91,
   "id": "1b91c587",
   "metadata": {},
   "outputs": [],
   "source": [
    "s1 = Son()"
   ]
  },
  {
   "cell_type": "code",
   "execution_count": 93,
   "id": "ecc5857e",
   "metadata": {},
   "outputs": [
    {
     "data": {
      "text/plain": [
       "'bahot sara'"
      ]
     },
     "execution_count": 93,
     "metadata": {},
     "output_type": "execute_result"
    }
   ],
   "source": [
    "s1.paisa"
   ]
  },
  {
   "cell_type": "code",
   "execution_count": 94,
   "id": "ce252af4",
   "metadata": {},
   "outputs": [
    {
     "data": {
      "text/plain": [
       "'jahan tak nazar jaaye'"
      ]
     },
     "execution_count": 94,
     "metadata": {},
     "output_type": "execute_result"
    }
   ],
   "source": [
    "s1.zameen"
   ]
  },
  {
   "cell_type": "code",
   "execution_count": 95,
   "id": "52cd1b50",
   "metadata": {},
   "outputs": [
    {
     "name": "stdout",
     "output_type": "stream",
     "text": [
      "this is class Father\n"
     ]
    }
   ],
   "source": [
    "s1.show()"
   ]
  },
  {
   "cell_type": "code",
   "execution_count": 85,
   "id": "601a65e2",
   "metadata": {},
   "outputs": [
    {
     "data": {
      "text/plain": [
       "'jahan tak nazar jaaye'"
      ]
     },
     "execution_count": 85,
     "metadata": {},
     "output_type": "execute_result"
    }
   ],
   "source": [
    "f1 = Father()\n",
    "f1.zameen"
   ]
  },
  {
   "cell_type": "code",
   "execution_count": 110,
   "id": "f263beac",
   "metadata": {},
   "outputs": [],
   "source": [
    "# 2. Multiple Inheritence # multiple parent , single child\n",
    "class Father:\n",
    "    paisa = 'bahot sara'\n",
    "    zameen = 'jahan tak nazar jaaye'\n",
    "    \n",
    "    def show(self):\n",
    "        print('this is class Father')\n",
    "        \n",
    "class Mother:\n",
    "    pyaar = 'bahot saara'\n",
    "    gold = '1'\n",
    "    \n",
    "    def show(self):\n",
    "        print('this is class Mother')\n",
    "        \n",
    "    \n",
    "class Son(Father, Mother):\n",
    "    time = 'free'\n",
    "    def show(self):\n",
    "        print('this is class Son')"
   ]
  },
  {
   "cell_type": "code",
   "execution_count": 111,
   "id": "a6fcaa60",
   "metadata": {},
   "outputs": [],
   "source": [
    "s1 = Son()"
   ]
  },
  {
   "cell_type": "code",
   "execution_count": 103,
   "id": "cbf08fb7",
   "metadata": {},
   "outputs": [
    {
     "data": {
      "text/plain": [
       "'1'"
      ]
     },
     "execution_count": 103,
     "metadata": {},
     "output_type": "execute_result"
    }
   ],
   "source": [
    "s1.gold"
   ]
  },
  {
   "cell_type": "code",
   "execution_count": 99,
   "id": "384037ba",
   "metadata": {},
   "outputs": [
    {
     "data": {
      "text/plain": [
       "'bahot sara'"
      ]
     },
     "execution_count": 99,
     "metadata": {},
     "output_type": "execute_result"
    }
   ],
   "source": [
    "s1.paisa"
   ]
  },
  {
   "cell_type": "code",
   "execution_count": 107,
   "id": "d4fe7cc7",
   "metadata": {},
   "outputs": [
    {
     "name": "stdout",
     "output_type": "stream",
     "text": [
      "this is class Son\n"
     ]
    }
   ],
   "source": [
    "s1.show()"
   ]
  },
  {
   "cell_type": "code",
   "execution_count": null,
   "id": "d22a306d",
   "metadata": {},
   "outputs": [],
   "source": [
    "# mro # Method Resolution Error"
   ]
  },
  {
   "cell_type": "code",
   "execution_count": 112,
   "id": "c29994ce",
   "metadata": {},
   "outputs": [
    {
     "data": {
      "text/plain": [
       "[__main__.Son, __main__.Father, __main__.Mother, object]"
      ]
     },
     "execution_count": 112,
     "metadata": {},
     "output_type": "execute_result"
    }
   ],
   "source": [
    "Son.mro()"
   ]
  },
  {
   "cell_type": "code",
   "execution_count": 114,
   "id": "cf6fcf7d",
   "metadata": {},
   "outputs": [],
   "source": [
    "# 3. Multilevel Inheritence\n",
    "class GrandPa:\n",
    "    experience = 'bahot sara'\n",
    "    kahani = 2\n",
    "    \n",
    "class Father(GrandPa):\n",
    "    paisa = 'bahot sara'\n",
    "    zameen = 'jahan tak nazar jaaye'\n",
    "    \n",
    "    def show(self):\n",
    "        print('this is class Father')\n",
    "        \n",
    "class Son(Father):\n",
    "    time = 'free'"
   ]
  },
  {
   "cell_type": "code",
   "execution_count": 115,
   "id": "2da41f70",
   "metadata": {},
   "outputs": [
    {
     "data": {
      "text/plain": [
       "'bahot sara'"
      ]
     },
     "execution_count": 115,
     "metadata": {},
     "output_type": "execute_result"
    }
   ],
   "source": [
    "s1 = Son()\n",
    "s1.experience"
   ]
  },
  {
   "cell_type": "code",
   "execution_count": 116,
   "id": "f4cde193",
   "metadata": {},
   "outputs": [
    {
     "data": {
      "text/plain": [
       "2"
      ]
     },
     "execution_count": 116,
     "metadata": {},
     "output_type": "execute_result"
    }
   ],
   "source": [
    "s1.kahani"
   ]
  },
  {
   "cell_type": "code",
   "execution_count": 117,
   "id": "45ab81c2",
   "metadata": {},
   "outputs": [
    {
     "data": {
      "text/plain": [
       "'jahan tak nazar jaaye'"
      ]
     },
     "execution_count": 117,
     "metadata": {},
     "output_type": "execute_result"
    }
   ],
   "source": [
    "s1.zameen"
   ]
  },
  {
   "cell_type": "code",
   "execution_count": 118,
   "id": "5b3698fe",
   "metadata": {},
   "outputs": [
    {
     "data": {
      "text/plain": [
       "[__main__.Son, __main__.Father, __main__.GrandPa, object]"
      ]
     },
     "execution_count": 118,
     "metadata": {},
     "output_type": "execute_result"
    }
   ],
   "source": [
    "Son.mro()"
   ]
  },
  {
   "cell_type": "code",
   "execution_count": 120,
   "id": "a68db040",
   "metadata": {},
   "outputs": [],
   "source": [
    "# 4. Hierarchical Inheritence # single parent & multiple children\n",
    "\n",
    "class Father:\n",
    "    paisa = 'bahot sara'\n",
    "    zameen = 'jahan tak nazar jaaye'\n",
    "    \n",
    "    def show(self):\n",
    "        print('this is class Father')\n",
    "        \n",
    "class Son(Father):\n",
    "    time = 'free'\n",
    "    \n",
    "class Daughter(Father):\n",
    "    skills = 'ye padhana padega'"
   ]
  },
  {
   "cell_type": "code",
   "execution_count": 121,
   "id": "1453aeb1",
   "metadata": {},
   "outputs": [],
   "source": [
    "s1 = Son()"
   ]
  },
  {
   "cell_type": "code",
   "execution_count": 123,
   "id": "5d38901d",
   "metadata": {},
   "outputs": [
    {
     "data": {
      "text/plain": [
       "'jahan tak nazar jaaye'"
      ]
     },
     "execution_count": 123,
     "metadata": {},
     "output_type": "execute_result"
    }
   ],
   "source": [
    "s1.zameen"
   ]
  },
  {
   "cell_type": "code",
   "execution_count": 124,
   "id": "0e7166e7",
   "metadata": {},
   "outputs": [
    {
     "data": {
      "text/plain": [
       "'free'"
      ]
     },
     "execution_count": 124,
     "metadata": {},
     "output_type": "execute_result"
    }
   ],
   "source": [
    "s1.time"
   ]
  },
  {
   "cell_type": "code",
   "execution_count": 125,
   "id": "dca3460b",
   "metadata": {},
   "outputs": [
    {
     "data": {
      "text/plain": [
       "[__main__.Son, __main__.Father, object]"
      ]
     },
     "execution_count": 125,
     "metadata": {},
     "output_type": "execute_result"
    }
   ],
   "source": [
    "Son.mro()"
   ]
  },
  {
   "cell_type": "code",
   "execution_count": 126,
   "id": "dcd3a797",
   "metadata": {},
   "outputs": [],
   "source": [
    "d1 = Daughter()"
   ]
  },
  {
   "cell_type": "code",
   "execution_count": 127,
   "id": "660a0427",
   "metadata": {},
   "outputs": [
    {
     "data": {
      "text/plain": [
       "'ye padhana padega'"
      ]
     },
     "execution_count": 127,
     "metadata": {},
     "output_type": "execute_result"
    }
   ],
   "source": [
    "d1.skills"
   ]
  },
  {
   "cell_type": "code",
   "execution_count": 128,
   "id": "572b99af",
   "metadata": {},
   "outputs": [
    {
     "name": "stdout",
     "output_type": "stream",
     "text": [
      "this is class Father\n"
     ]
    }
   ],
   "source": [
    "d1.show()"
   ]
  },
  {
   "cell_type": "code",
   "execution_count": 129,
   "id": "11215336",
   "metadata": {},
   "outputs": [
    {
     "data": {
      "text/plain": [
       "[__main__.Daughter, __main__.Father, object]"
      ]
     },
     "execution_count": 129,
     "metadata": {},
     "output_type": "execute_result"
    }
   ],
   "source": [
    "Daughter.mro()"
   ]
  },
  {
   "cell_type": "code",
   "execution_count": 147,
   "id": "35961f83",
   "metadata": {},
   "outputs": [],
   "source": [
    "# 5. Hybrid Inheritence # if more than ONE type of inheritence is present then wo hybrid hai\n",
    "class GrandPa:\n",
    "    experience = 'bahot sara'\n",
    "    kahani = 2\n",
    "    def show(self):\n",
    "        print('this is class GrandPa')\n",
    "    \n",
    "class GrandMa:\n",
    "    original_skills = 'she can do anything'\n",
    "    def show(self):\n",
    "        print('this is class GrandMa')\n",
    "    \n",
    "class Father(GrandPa, GrandMa):\n",
    "    paisa = 'bahot sara'\n",
    "    zameen = 'jahan tak nazar jaaye'\n",
    "    \n",
    "#     def show(self):\n",
    "#         print('this is class Father')\n",
    "        \n",
    "class Son(Father):\n",
    "    time = 'free'\n",
    "    def show(self):\n",
    "        print('this is class Son')\n",
    "    \n",
    "class Daughter(Father):\n",
    "    skills = 'None'\n",
    "#     def show(self):\n",
    "#         print('this is class Daughter')"
   ]
  },
  {
   "cell_type": "code",
   "execution_count": 148,
   "id": "157a50aa",
   "metadata": {},
   "outputs": [],
   "source": [
    "d1 = Daughter()"
   ]
  },
  {
   "cell_type": "code",
   "execution_count": 138,
   "id": "8aecb779",
   "metadata": {},
   "outputs": [
    {
     "data": {
      "text/plain": [
       "'None'"
      ]
     },
     "execution_count": 138,
     "metadata": {},
     "output_type": "execute_result"
    }
   ],
   "source": [
    "d1.skills"
   ]
  },
  {
   "cell_type": "code",
   "execution_count": 149,
   "id": "d9441b0b",
   "metadata": {},
   "outputs": [
    {
     "name": "stdout",
     "output_type": "stream",
     "text": [
      "this is class GrandPa\n"
     ]
    }
   ],
   "source": [
    "d1.show()"
   ]
  },
  {
   "cell_type": "code",
   "execution_count": 150,
   "id": "78153ee3",
   "metadata": {},
   "outputs": [
    {
     "data": {
      "text/plain": [
       "[__main__.Daughter,\n",
       " __main__.Father,\n",
       " __main__.GrandPa,\n",
       " __main__.GrandMa,\n",
       " object]"
      ]
     },
     "execution_count": 150,
     "metadata": {},
     "output_type": "execute_result"
    }
   ],
   "source": [
    "Daughter.mro()"
   ]
  },
  {
   "cell_type": "code",
   "execution_count": 179,
   "id": "cbfe1bf6",
   "metadata": {},
   "outputs": [],
   "source": [
    "# 3. Encapsulation\n",
    "# Capsule # data pack\n",
    "\n",
    "# Modifiers\n",
    "# 1. Public : normal variables and methods\n",
    "# 2. Protected : prefix SINGLE underscore, we do not know if that variable exits, but typing manually we access\n",
    "# 3. Private : prefix DOUBLE underscore, class ke boc mein hi access ho paayega\n",
    "\n",
    "class Father:\n",
    "    #Public Attributes\n",
    "    paisa = 'bahot sara'\n",
    "    zameen = 'jahan tak nazar jaaye'\n",
    "    #Private Attribute\n",
    "    __dimag = 'it is personal stuff'\n",
    "    \n",
    "    def access_dimag(self): #getter\n",
    "        return self.__dimag\n",
    "    \n",
    "    @classmethod\n",
    "    def change_dimag(cls, a): #setters\n",
    "        cls.__dimag = a\n",
    "    \n",
    "    \n",
    "    def __nature(self): #private method\n",
    "        print('nobody knows')\n",
    "    \n",
    "    def _show(self):\n",
    "        print('this is class Father')\n",
    "        \n",
    "class Son(Father):\n",
    "    time = 'free'"
   ]
  },
  {
   "cell_type": "code",
   "execution_count": 180,
   "id": "cd7448b6",
   "metadata": {},
   "outputs": [
    {
     "data": {
      "text/plain": [
       "'it is personal stuff'"
      ]
     },
     "execution_count": 180,
     "metadata": {},
     "output_type": "execute_result"
    }
   ],
   "source": [
    "s1 = Son()\n",
    "s1.access_dimag()"
   ]
  },
  {
   "cell_type": "code",
   "execution_count": 181,
   "id": "dfb72758",
   "metadata": {},
   "outputs": [
    {
     "name": "stdout",
     "output_type": "stream",
     "text": [
      "this is class Father\n"
     ]
    }
   ],
   "source": [
    "s1._show()"
   ]
  },
  {
   "cell_type": "code",
   "execution_count": null,
   "id": "f3c2aa1c",
   "metadata": {},
   "outputs": [],
   "source": []
  },
  {
   "cell_type": "code",
   "execution_count": 182,
   "id": "65bef2a6",
   "metadata": {},
   "outputs": [],
   "source": [
    "f1 = Father()"
   ]
  },
  {
   "cell_type": "code",
   "execution_count": 183,
   "id": "c66f5df8",
   "metadata": {},
   "outputs": [
    {
     "name": "stdout",
     "output_type": "stream",
     "text": [
      "this is class Father\n"
     ]
    }
   ],
   "source": [
    "f1._show()"
   ]
  },
  {
   "cell_type": "code",
   "execution_count": 171,
   "id": "3f002c8d",
   "metadata": {},
   "outputs": [
    {
     "ename": "AttributeError",
     "evalue": "'Father' object has no attribute '__dimag'",
     "output_type": "error",
     "traceback": [
      "\u001b[0;31m---------------------------------------------------------------------------\u001b[0m",
      "\u001b[0;31mAttributeError\u001b[0m                            Traceback (most recent call last)",
      "Cell \u001b[0;32mIn[171], line 1\u001b[0m\n\u001b[0;32m----> 1\u001b[0m \u001b[43mf1\u001b[49m\u001b[38;5;241;43m.\u001b[39;49m\u001b[43m__dimag\u001b[49m\n",
      "\u001b[0;31mAttributeError\u001b[0m: 'Father' object has no attribute '__dimag'"
     ]
    }
   ],
   "source": [
    "f1.__dimag"
   ]
  },
  {
   "cell_type": "code",
   "execution_count": 168,
   "id": "58f3a409",
   "metadata": {},
   "outputs": [],
   "source": [
    "f1.paisa = 'NIL'"
   ]
  },
  {
   "cell_type": "code",
   "execution_count": 169,
   "id": "1e372611",
   "metadata": {},
   "outputs": [
    {
     "data": {
      "text/plain": [
       "'NIL'"
      ]
     },
     "execution_count": 169,
     "metadata": {},
     "output_type": "execute_result"
    }
   ],
   "source": [
    "f1.paisa"
   ]
  },
  {
   "cell_type": "code",
   "execution_count": 175,
   "id": "71fb071b",
   "metadata": {},
   "outputs": [],
   "source": [
    "s1.change_dimag('100X')"
   ]
  },
  {
   "cell_type": "code",
   "execution_count": 176,
   "id": "f0fa7c47",
   "metadata": {},
   "outputs": [
    {
     "data": {
      "text/plain": [
       "'100X'"
      ]
     },
     "execution_count": 176,
     "metadata": {},
     "output_type": "execute_result"
    }
   ],
   "source": [
    "s1.access_dimag()"
   ]
  },
  {
   "cell_type": "code",
   "execution_count": 177,
   "id": "c123a1ff",
   "metadata": {},
   "outputs": [],
   "source": [
    "s2 = Son()"
   ]
  },
  {
   "cell_type": "code",
   "execution_count": 178,
   "id": "51105b13",
   "metadata": {},
   "outputs": [
    {
     "data": {
      "text/plain": [
       "'100X'"
      ]
     },
     "execution_count": 178,
     "metadata": {},
     "output_type": "execute_result"
    }
   ],
   "source": [
    "s2.access_dimag()"
   ]
  },
  {
   "cell_type": "code",
   "execution_count": null,
   "id": "9141d68e",
   "metadata": {},
   "outputs": [],
   "source": [
    "# 4. Polymorphism\n",
    "# poly = many, morph = form/ avatar\n"
   ]
  },
  {
   "cell_type": "code",
   "execution_count": 6,
   "id": "2ff06339",
   "metadata": {},
   "outputs": [
    {
     "data": {
      "text/plain": [
       "7.9"
      ]
     },
     "execution_count": 6,
     "metadata": {},
     "output_type": "execute_result"
    }
   ],
   "source": [
    "# Operator Overloading\n",
    "\n",
    "3 + 4.90 #maths "
   ]
  },
  {
   "cell_type": "code",
   "execution_count": 2,
   "id": "aba30da7",
   "metadata": {},
   "outputs": [
    {
     "data": {
      "text/plain": [
       "'UIux'"
      ]
     },
     "execution_count": 2,
     "metadata": {},
     "output_type": "execute_result"
    }
   ],
   "source": [
    "'UI' + 'ux' #concatenation"
   ]
  },
  {
   "cell_type": "code",
   "execution_count": 3,
   "id": "bf792e8f",
   "metadata": {},
   "outputs": [
    {
     "data": {
      "text/plain": [
       "[4, 345, 56, 1, 2, 4]"
      ]
     },
     "execution_count": 3,
     "metadata": {},
     "output_type": "execute_result"
    }
   ],
   "source": [
    "[4,345,56] + [1,2,4]"
   ]
  },
  {
   "cell_type": "code",
   "execution_count": 4,
   "id": "7022afea",
   "metadata": {},
   "outputs": [
    {
     "data": {
      "text/plain": [
       "(3, 4, 5)"
      ]
     },
     "execution_count": 4,
     "metadata": {},
     "output_type": "execute_result"
    }
   ],
   "source": [
    "(3,4) + (5,)"
   ]
  },
  {
   "cell_type": "code",
   "execution_count": 27,
   "id": "dc4f5414",
   "metadata": {},
   "outputs": [
    {
     "ename": "TypeError",
     "evalue": "unsupported operand type(s) for +: 'dict' and 'dict'",
     "output_type": "error",
     "traceback": [
      "\u001b[0;31m---------------------------------------------------------------------------\u001b[0m",
      "\u001b[0;31mTypeError\u001b[0m                                 Traceback (most recent call last)",
      "Cell \u001b[0;32mIn[27], line 1\u001b[0m\n\u001b[0;32m----> 1\u001b[0m \u001b[43m{\u001b[49m\u001b[38;5;241;43m3\u001b[39;49m\u001b[43m:\u001b[49m\u001b[38;5;241;43m45\u001b[39;49m\u001b[43m}\u001b[49m\u001b[43m \u001b[49m\u001b[38;5;241;43m+\u001b[39;49m\u001b[43m \u001b[49m\u001b[43m{\u001b[49m\u001b[38;5;241;43m22\u001b[39;49m\u001b[43m:\u001b[49m\u001b[38;5;241;43m33\u001b[39;49m\u001b[43m}\u001b[49m\n",
      "\u001b[0;31mTypeError\u001b[0m: unsupported operand type(s) for +: 'dict' and 'dict'"
     ]
    }
   ],
   "source": [
    "{3:45} + {22:33}"
   ]
  },
  {
   "cell_type": "code",
   "execution_count": 21,
   "id": "0fcfbbea",
   "metadata": {},
   "outputs": [
    {
     "data": {
      "text/plain": [
       "True"
      ]
     },
     "execution_count": 21,
     "metadata": {},
     "output_type": "execute_result"
    }
   ],
   "source": [
    "0 == False"
   ]
  },
  {
   "cell_type": "code",
   "execution_count": 20,
   "id": "d5821cc3",
   "metadata": {},
   "outputs": [
    {
     "data": {
      "text/plain": [
       "True"
      ]
     },
     "execution_count": 20,
     "metadata": {},
     "output_type": "execute_result"
    }
   ],
   "source": [
    "1 == True\n"
   ]
  },
  {
   "cell_type": "code",
   "execution_count": 23,
   "id": "a00d73b4",
   "metadata": {},
   "outputs": [
    {
     "data": {
      "text/plain": [
       "-1"
      ]
     },
     "execution_count": 23,
     "metadata": {},
     "output_type": "execute_result"
    }
   ],
   "source": [
    "False - True"
   ]
  },
  {
   "cell_type": "code",
   "execution_count": 26,
   "id": "0f860bb8",
   "metadata": {},
   "outputs": [
    {
     "data": {
      "text/plain": [
       "2"
      ]
     },
     "execution_count": 26,
     "metadata": {},
     "output_type": "execute_result"
    }
   ],
   "source": [
    "True + True "
   ]
  },
  {
   "cell_type": "code",
   "execution_count": 53,
   "id": "9ba4a4e0",
   "metadata": {},
   "outputs": [],
   "source": [
    "class Student:\n",
    "    \n",
    "    def __init__(self, a, b, c):\n",
    "        self.name = a\n",
    "        self.age = b\n",
    "        self.std = c\n",
    "        \n",
    "    #megic methods\n",
    "    def __add__(self, other): # self = s1, other = s2\n",
    "        return self.age + other.age\n",
    "    \n",
    "    def __gt__(self, other):\n",
    "        return self.age > other.age"
   ]
  },
  {
   "cell_type": "code",
   "execution_count": 54,
   "id": "3ed2aaeb",
   "metadata": {},
   "outputs": [],
   "source": [
    "s1 = Student('snehal', 19, '2nd')\n",
    "s3 = Student('ritik', 23, '4th')\n",
    "s2 = Student('menil', 26, '1st')"
   ]
  },
  {
   "cell_type": "code",
   "execution_count": 55,
   "id": "02c7bc14",
   "metadata": {},
   "outputs": [
    {
     "data": {
      "text/plain": [
       "False"
      ]
     },
     "execution_count": 55,
     "metadata": {},
     "output_type": "execute_result"
    }
   ],
   "source": [
    "# 'A' > 'esdfgh'\n",
    "# 34 > 45\n",
    "# True > False\n",
    "# (7,8) < (8,)\n",
    "s1 > s2 # we overloaded > operator for student objects"
   ]
  },
  {
   "cell_type": "code",
   "execution_count": null,
   "id": "92a3dbdd",
   "metadata": {},
   "outputs": [],
   "source": []
  },
  {
   "cell_type": "code",
   "execution_count": 38,
   "id": "76838c15",
   "metadata": {},
   "outputs": [
    {
     "data": {
      "text/plain": [
       "45"
      ]
     },
     "execution_count": 38,
     "metadata": {},
     "output_type": "execute_result"
    }
   ],
   "source": [
    "s1 + s2"
   ]
  },
  {
   "cell_type": "code",
   "execution_count": 39,
   "id": "8eb309d2",
   "metadata": {},
   "outputs": [
    {
     "data": {
      "text/plain": [
       "79"
      ]
     },
     "execution_count": 39,
     "metadata": {},
     "output_type": "execute_result"
    }
   ],
   "source": [
    "34 + 45"
   ]
  },
  {
   "cell_type": "code",
   "execution_count": 40,
   "id": "e179d96d",
   "metadata": {},
   "outputs": [
    {
     "data": {
      "text/plain": [
       "'sdfg345'"
      ]
     },
     "execution_count": 40,
     "metadata": {},
     "output_type": "execute_result"
    }
   ],
   "source": [
    "'sdfg' + '345'"
   ]
  },
  {
   "cell_type": "code",
   "execution_count": 56,
   "id": "677f786d",
   "metadata": {},
   "outputs": [],
   "source": [
    "s4 = Student('siddhesh', 20, '3rd')\n",
    "s5 = Student('mayur', 23, '1st')"
   ]
  },
  {
   "cell_type": "code",
   "execution_count": 62,
   "id": "ef365c4a",
   "metadata": {},
   "outputs": [
    {
     "data": {
      "text/plain": [
       "False"
      ]
     },
     "execution_count": 62,
     "metadata": {},
     "output_type": "execute_result"
    }
   ],
   "source": [
    "s4 > s5"
   ]
  },
  {
   "cell_type": "code",
   "execution_count": null,
   "id": "065af93f",
   "metadata": {},
   "outputs": [],
   "source": [
    "True 1"
   ]
  },
  {
   "cell_type": "code",
   "execution_count": 63,
   "id": "0464a23d",
   "metadata": {},
   "outputs": [
    {
     "data": {
      "text/plain": [
       "False"
      ]
     },
     "execution_count": 63,
     "metadata": {},
     "output_type": "execute_result"
    }
   ],
   "source": [
    ">\n",
    "not >"
   ]
  },
  {
   "cell_type": "code",
   "execution_count": 68,
   "id": "df2223f9",
   "metadata": {},
   "outputs": [],
   "source": [
    "# Method Overloading/ function Overloading\n",
    "# NOT SUPPORTED\n",
    "\n",
    "class A:\n",
    "    \n",
    "    def fun1(self, a, b):\n",
    "        print(a + b, a*b)\n",
    "        \n",
    "    def fun1(self, a, b):\n",
    "        print(a * b)"
   ]
  },
  {
   "cell_type": "code",
   "execution_count": 69,
   "id": "c4aa5c69",
   "metadata": {},
   "outputs": [],
   "source": [
    "a1 = A()"
   ]
  },
  {
   "cell_type": "code",
   "execution_count": 70,
   "id": "3204a0d6",
   "metadata": {},
   "outputs": [
    {
     "name": "stdout",
     "output_type": "stream",
     "text": [
      "20\n"
     ]
    }
   ],
   "source": [
    "a1.fun1(4,5)"
   ]
  },
  {
   "cell_type": "code",
   "execution_count": 71,
   "id": "6e55b1a4",
   "metadata": {},
   "outputs": [],
   "source": [
    "# Method Overriding\n",
    "\n",
    "class CEO:\n",
    "    def decision(self):\n",
    "        print('$10 Mn for 10% of the company')\n",
    "        \n",
    "class Manager(CEO):\n",
    "    def decision(self):\n",
    "        print('150 rupiya to company tumhari')"
   ]
  },
  {
   "cell_type": "code",
   "execution_count": 72,
   "id": "24aa61c3",
   "metadata": {},
   "outputs": [],
   "source": [
    "m1 = Manager()"
   ]
  },
  {
   "cell_type": "code",
   "execution_count": 73,
   "id": "19b0f5a2",
   "metadata": {},
   "outputs": [
    {
     "name": "stdout",
     "output_type": "stream",
     "text": [
      "150 rupiya to company tumhari\n"
     ]
    }
   ],
   "source": [
    "m1.decision()"
   ]
  },
  {
   "cell_type": "code",
   "execution_count": null,
   "id": "61bf91f1",
   "metadata": {},
   "outputs": [],
   "source": [
    "#5. Abstraction\n",
    "# to abstract defination and implementation\n",
    "# total functionalities, complex code wo hume nahi pata hoga\n",
    "abc ==> ABC, abstractmethod\n",
    "#abstract base class"
   ]
  },
  {
   "cell_type": "code",
   "execution_count": 10,
   "id": "ba7a937e",
   "metadata": {},
   "outputs": [],
   "source": [
    "from abc import ABC, abstractmethod\n",
    "\n",
    "class Phone(ABC):\n",
    "    \n",
    "    @abstractmethod\n",
    "    def button(self) -> str:\n",
    "        pass\n",
    "    \n",
    "    @abstractmethod\n",
    "    def screen(self) -> int:\n",
    "        pass"
   ]
  },
  {
   "cell_type": "code",
   "execution_count": null,
   "id": "d489fa41",
   "metadata": {},
   "outputs": [],
   "source": []
  },
  {
   "cell_type": "code",
   "execution_count": null,
   "id": "b5a7f90e",
   "metadata": {},
   "outputs": [],
   "source": []
  },
  {
   "cell_type": "code",
   "execution_count": null,
   "id": "21190708",
   "metadata": {},
   "outputs": [],
   "source": []
  },
  {
   "cell_type": "code",
   "execution_count": 11,
   "id": "f1720ac5",
   "metadata": {},
   "outputs": [],
   "source": [
    "class Xiaomi(Phone):\n",
    "    \n",
    "    def button(self):\n",
    "        return 'this button will turn off and on screen'\n",
    "    \n",
    "    def screen(self):\n",
    "        print('this is screen.. you can visualize softwares')\n",
    "        return 1"
   ]
  },
  {
   "cell_type": "code",
   "execution_count": null,
   "id": "879971f1",
   "metadata": {},
   "outputs": [],
   "source": []
  },
  {
   "cell_type": "code",
   "execution_count": null,
   "id": "bf74f945",
   "metadata": {},
   "outputs": [],
   "source": []
  },
  {
   "cell_type": "code",
   "execution_count": null,
   "id": "c7ec0d2f",
   "metadata": {},
   "outputs": [],
   "source": []
  },
  {
   "cell_type": "code",
   "execution_count": null,
   "id": "3fbbcff4",
   "metadata": {},
   "outputs": [],
   "source": []
  },
  {
   "cell_type": "code",
   "execution_count": null,
   "id": "00087886",
   "metadata": {},
   "outputs": [],
   "source": []
  },
  {
   "cell_type": "code",
   "execution_count": 1,
   "id": "6a46430b",
   "metadata": {},
   "outputs": [],
   "source": [
    "class S:\n",
    "    "
   ]
  },
  {
   "cell_type": "code",
   "execution_count": null,
   "id": "04216655",
   "metadata": {},
   "outputs": [],
   "source": [
    "import random"
   ]
  },
  {
   "cell_type": "code",
   "execution_count": 3,
   "id": "f477a7ea",
   "metadata": {},
   "outputs": [],
   "source": [
    "import re"
   ]
  },
  {
   "cell_type": "code",
   "execution_count": null,
   "id": "b2e3054e",
   "metadata": {},
   "outputs": [],
   "source": [
    "re.search()"
   ]
  },
  {
   "cell_type": "code",
   "execution_count": null,
   "id": "a3de2e23",
   "metadata": {},
   "outputs": [],
   "source": [
    "re.match()"
   ]
  },
  {
   "cell_type": "code",
   "execution_count": null,
   "id": "486dbea4",
   "metadata": {},
   "outputs": [],
   "source": [
    "num = int(input())\n",
    "res = 1\n",
    "for i in range(1, num +1):\n",
    "    res *= i\n",
    "\n",
    "print(res)"
   ]
  }
 ],
 "metadata": {
  "kernelspec": {
   "display_name": "Python 3 (ipykernel)",
   "language": "python",
   "name": "python3"
  },
  "language_info": {
   "codemirror_mode": {
    "name": "ipython",
    "version": 3
   },
   "file_extension": ".py",
   "mimetype": "text/x-python",
   "name": "python",
   "nbconvert_exporter": "python",
   "pygments_lexer": "ipython3",
   "version": "3.11.3"
  }
 },
 "nbformat": 4,
 "nbformat_minor": 5
}
